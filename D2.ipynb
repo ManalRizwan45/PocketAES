{
 "cells": [
  {
   "cell_type": "code",
   "execution_count": 1,
   "metadata": {},
   "outputs": [],
   "source": [
    "import copy\n",
    "\n",
    "def createStateMatrix (Text):\n",
    "  state = []\n",
    "  j = 0\n",
    "\n",
    "  for i in range(2):\n",
    "    row = []\n",
    "    row.append(Text[j])\n",
    "    row.append(Text[j+2])\n",
    "    state.append(row)\n",
    "    j = j + 1\n",
    "  \n",
    "  return state\n"
   ]
  },
  {
   "cell_type": "code",
   "execution_count": 2,
   "metadata": {},
   "outputs": [],
   "source": [
    "def shiftRow (state):\n",
    "    \n",
    "    shiftedState = copy.deepcopy(state)\n",
    "    temp = shiftedState[0][0]\n",
    "    shiftedState[0][0] = shiftedState[0][1]\n",
    "    shiftedState[0][1] = temp\n",
    "    shiftedText = ''\n",
    "    shiftedText = shiftedText + shiftedState[0][0]\n",
    "    shiftedText = shiftedText + shiftedState[1][0]\n",
    "    shiftedText = shiftedText + shiftedState[0][1]\n",
    "    shiftedText = shiftedText + shiftedState[1][1]\n",
    "    \n",
    "    return shiftedText"
   ]
  },
  {
   "cell_type": "code",
   "execution_count": 3,
   "metadata": {},
   "outputs": [],
   "source": [
    "def subNibbles(Text):\n",
    "  \n",
    "    subText = ''\n",
    "\n",
    "    lookupTable = {'0': 'a' , '1' : '0' , '2' : '9' , '3' : 'e' , '4' : '6' , '5' : '3' , '6' : 'f' , '7' : '5' , '8' : '1' ,\n",
    "                    '9' :'d' , 'a' : 'c' , 'b' : '7' , 'c' : 'b' , 'd' : '4' , 'e' : '2' , 'f' : '8'}\n",
    "\n",
    "    for i in Text:\n",
    "      subText = subText + lookupTable[i]\n",
    "     \n",
    "    return subText"
   ]
  },
  {
   "cell_type": "code",
   "execution_count": 4,
   "metadata": {},
   "outputs": [],
   "source": [
    "def invSubNibbles(Text):\n",
    "\n",
    "    subText = ''\n",
    "\n",
    "    lookupTable = {'a': '0', '0': '1', '9': '2', 'e': '3', '6': '4', '3': '5', 'f': '6', '5': '7', '1': '8',\n",
    "                 'd': '9', 'c': 'a', '7': 'b', 'b': 'c', '4': 'd', '2': 'e', '8': 'f'}\n",
    "    \n",
    "    for i in Text:\n",
    "      subText = subText + lookupTable[i]\n",
    "     \n",
    "    return subText"
   ]
  },
  {
   "cell_type": "code",
   "execution_count": 5,
   "metadata": {},
   "outputs": [],
   "source": [
    "def generateRoundKey1(state,roundKey1):\n",
    "   \n",
    "   rkey1 = ''\n",
    "   roundKey1[0] = hex (int(state[0][0],16) ^ int(subNibbles(state[1][1]),16) ^ 14)[2:]\n",
    "   roundKey1[1] = hex (int(state[1][0],16) ^ int(roundKey1[0],16))[2:]\n",
    "   roundKey1[2] = hex (int(state[0][1],16) ^ int(roundKey1[1],16))[2:]\n",
    "   roundKey1[3] = hex (int(state[1][1],16) ^ int(roundKey1[2],16))[2:]\n",
    "      \n",
    "   return roundKey1"
   ]
  },
  {
   "cell_type": "code",
   "execution_count": 6,
   "metadata": {},
   "outputs": [],
   "source": [
    "def generateRoundKey2(roundKey1,roundKey2):\n",
    "   \n",
    "   rkey2 = ''\n",
    "   roundKey2[0] = hex (int(roundKey1[0],16) ^ int(subNibbles(roundKey1[3]),16) ^ 10)[2:]\n",
    "   roundKey2[1] = hex(int(roundKey1[1],16) ^ int(roundKey2[0],16))[2:]\n",
    "   roundKey2[2] = hex(int(roundKey1[2],16) ^ int(roundKey2[1],16))[2:]\n",
    "   roundKey2[3] = hex(int(roundKey1[3],16) ^ int(roundKey2[2],16))[2:]\n",
    "\n",
    "   return roundKey2"
   ]
  },
  {
   "cell_type": "code",
   "execution_count": 7,
   "metadata": {},
   "outputs": [],
   "source": [
    "def stringify(roundKey):\n",
    "    \n",
    "    rkey =''\n",
    "\n",
    "    for i in range(4):\n",
    "       rkey = rkey + roundKey[i]\n",
    "\n",
    "    return rkey"
   ]
  },
  {
   "cell_type": "code",
   "execution_count": 8,
   "metadata": {},
   "outputs": [],
   "source": [
    "def invXOR(roundKey,shiftedCipherText):\n",
    "    \n",
    "    return hex(int(stringify(roundKey),16) ^ int(shiftedCipherText,16))[2:]\n",
    "    "
   ]
  },
  {
   "cell_type": "code",
   "execution_count": 9,
   "metadata": {},
   "outputs": [],
   "source": [
    "def multiply(row , col):\n",
    "    \n",
    "    product = 0\n",
    "\n",
    "    for i in range(2):\n",
    "\n",
    "        a = int(row[i],16)\n",
    "        b = int(col[i],16)\n",
    "        m = 0\n",
    "      \n",
    "        while b > 0 :\n",
    "\n",
    "          if b & 1: \n",
    "            m = m ^ a\n",
    "            \n",
    "\n",
    "          if a & 8 :\n",
    "            a = (a << 1) ^ 19\n",
    "           \n",
    "          else:\n",
    "              a = a << 1\n",
    "\n",
    "          b = b >> 1\n",
    "         \n",
    "          \n",
    "        product = product ^ m\n",
    "        \n",
    "    \n",
    "    product = hex(product)\n",
    "    product = product[2:]\n",
    "    #print(\"product in hex\" , product)\n",
    "    return product\n",
    "                "
   ]
  },
  {
   "cell_type": "code",
   "execution_count": 10,
   "metadata": {},
   "outputs": [],
   "source": [
    "def mixColumns (state) :\n",
    "\n",
    "    constantMatrix = [['9','2'],['2','9']]\n",
    "    col1 = []\n",
    "    col2 = []\n",
    "    row1 = copy.deepcopy(constantMatrix[0])\n",
    "    row2 = copy.deepcopy(constantMatrix[1])\n",
    "    col1.append(state[0][0])\n",
    "    col1.append(state[1][0])\n",
    "    col2.append(state[0][1])\n",
    "    col2.append(state[1][1])\n",
    "\n",
    "   \n",
    "    mixedText = ''\n",
    "    mixedText = mixedText + multiply(row1,col1)\n",
    "    mixedText = mixedText + multiply(row2,col1)\n",
    "    mixedText = mixedText + multiply(row1,col2)\n",
    "    mixedText = mixedText + multiply(row2,col2)\n",
    "   \n",
    "    return mixedText   \n"
   ]
  },
  {
   "cell_type": "code",
   "execution_count": 11,
   "metadata": {},
   "outputs": [
    {
     "name": "stdout",
     "output_type": "stream",
     "text": [
      "Decrypted Block ( f3d7 ) : e282\n"
     ]
    }
   ],
   "source": [
    "cipherText = input(\"Enter The Ciphertext Block:\")\n",
    "key = input(\"Enter Key:\")\n",
    "keyState = createStateMatrix(key)\n",
    "cipherTextState1 = createStateMatrix(cipherText)\n",
    "shiftedCipherText1 = shiftRow(cipherTextState1)\n",
    "roundKey1=['','','','']\n",
    "roundKey2=['','','','']\n",
    "roundKey1 = generateRoundKey1(keyState,roundKey1)\n",
    "roundKey2 = generateRoundKey2(roundKey1,roundKey2)\n",
    "invXORedText1 = invXOR(roundKey2,shiftedCipherText1)\n",
    "invSubText = invSubNibbles(invXORedText1)\n",
    "cipherTextState2 = createStateMatrix(invSubText)\n",
    "shiftedCipherText2 = shiftRow(cipherTextState2)\n",
    "cipherTextState3 = createStateMatrix(shiftedCipherText2)\n",
    "mixedCipherText = mixColumns(cipherTextState3)\n",
    "invXORedText2 = invXOR(roundKey1,mixedCipherText)\n",
    "plainText = invSubNibbles(invXORedText2)\n",
    "\n",
    "print(\"Decrypted Block ( \" + cipherText + \" ) : \" + plainText)"
   ]
  },
  {
   "cell_type": "code",
   "execution_count": null,
   "metadata": {},
   "outputs": [],
   "source": []
  }
 ],
 "metadata": {
  "kernelspec": {
   "display_name": "Python 3",
   "language": "python",
   "name": "python3"
  },
  "language_info": {
   "codemirror_mode": {
    "name": "ipython",
    "version": 3
   },
   "file_extension": ".py",
   "mimetype": "text/x-python",
   "name": "python",
   "nbconvert_exporter": "python",
   "pygments_lexer": "ipython3",
   "version": "3.11.2"
  },
  "orig_nbformat": 4
 },
 "nbformat": 4,
 "nbformat_minor": 2
}
